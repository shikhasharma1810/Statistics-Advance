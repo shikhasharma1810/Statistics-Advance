{
 "cells": [
  {
   "cell_type": "code",
   "execution_count": null,
   "id": "dfffa732-9bf5-4d29-8f97-0d4e7e4873e0",
   "metadata": {},
   "outputs": [],
   "source": [
    "Q1. What is the Probability density function?\n",
    "\n",
    "A probability density function (PDF) is a statistical expression that defines the relationship between a \n",
    "random variable and its probability.Ex- heights of students in classroom.\n",
    "PDF values are always in between 0 to 1. Probability density is basically a gradient of cumulative curve."
   ]
  },
  {
   "cell_type": "code",
   "execution_count": null,
   "id": "3dbcd0c7-e7f9-4b85-aba7-46eedd8c8d37",
   "metadata": {},
   "outputs": [],
   "source": [
    "Q2. What are the types of Probability distribution?\n",
    "\n",
    "It is of three types: \n",
    "    \n",
    "1. Probability Density Function(pdf): Distribution of continuous random variable is denoted by \n",
    "Probability Density Function(pdf).Ex- heights of students in classroom.\n",
    "PDF values are always in between 0 to 1. Probability density is basically a gradient of cumulative curve.\n",
    "\n",
    "2. Probability Mass Function(pmf): Distribution of discrete random variable is denoted by \n",
    "Probability Mass Function(pmf).Ex- rolling a dice or tossing a coin.\n",
    "\n",
    "3. Cumulative Distribution Function(cdf): The previous & upcoming points of area under the curve are added."
   ]
  },
  {
   "cell_type": "code",
   "execution_count": null,
   "id": "ec903add-258f-4571-9579-e54a4542daf3",
   "metadata": {
    "tags": []
   },
   "outputs": [],
   "source": [
    "Q3. Write a Python function to calculate the probability density function of a normal distribution with\n",
    "given mean and standard deviation at a given point."
   ]
  },
  {
   "cell_type": "code",
   "execution_count": 8,
   "id": "b3140baa-b7cd-4f59-8aa7-31ab8ae66f23",
   "metadata": {},
   "outputs": [],
   "source": [
    "def normal(x,mu,sigma):\n",
    "    pdf = norm.pdf(x,mu,sigma)\n",
    "    return pdf"
   ]
  },
  {
   "cell_type": "code",
   "execution_count": 9,
   "id": "40edffcd-9253-415b-a74a-fbcb0c82aad5",
   "metadata": {},
   "outputs": [
    {
     "data": {
      "text/plain": [
       "1.4867195147342979e-06"
      ]
     },
     "execution_count": 9,
     "metadata": {},
     "output_type": "execute_result"
    }
   ],
   "source": [
    "normal(0,5,1)"
   ]
  },
  {
   "cell_type": "code",
   "execution_count": null,
   "id": "ff296f46-db79-4ec7-b733-37382db52856",
   "metadata": {},
   "outputs": [],
   "source": [
    "Q4. What are the properties of Binomial distribution? Give two examples of events where binomial\n",
    "distribution can be applied.\n",
    "\n",
    "Binomial Distribution: Here we use probablity mass function.\n",
    "a. Every experiment outcome is binary(pass/fail).\n",
    "b. These experiments are performed for 'n' trials. \n",
    "c. Sequence of outcomes for a single trial is called Binomial.\n",
    "d. Group of Bernouli distribution is Binomial distribution.\n",
    "e. Binomial distribution is the discrete probability distribution of a random varaible(pmf).\n",
    "Ex- tossing a coin 10 times.(2 outcome-head/tail) and if any test is taken,then there could be \n",
    "only two results(pass or fail). "
   ]
  },
  {
   "cell_type": "code",
   "execution_count": null,
   "id": "2476a00c-be8b-4283-8743-130b31b411f1",
   "metadata": {},
   "outputs": [],
   "source": [
    "Q5. Generate a random sample of size 1000 from a binomial distribution with probability of success 0.4\n",
    "and plot a histogram of the results using matplotlib."
   ]
  },
  {
   "cell_type": "code",
   "execution_count": 7,
   "id": "d2e8ec20-80be-40b4-9ec9-038f0a062afc",
   "metadata": {},
   "outputs": [
    {
     "data": {
      "image/png": "[encoded data removed]",
      "text/plain": [
       "<Figure size 640x480 with 1 Axes>"
      ]
     },
     "metadata": {},
     "output_type": "display_data"
    }
   ],
   "source": [
    "import numpy as np\n",
    "import matplotlib.pyplot as plt\n",
    "\n",
    "# Parameters\n",
    "n = 1000  # Sample size\n",
    "p = 0.4   # Probability of success\n",
    "\n",
    "# Generate random sample\n",
    "sample = np.random.binomial(1, p, n)\n",
    "\n",
    "# Plot histogram\n",
    "plt.hist(sample, bins=2, edgecolor='black')\n",
    "plt.title('Binomial Distribution with p=0.4')\n",
    "plt.xlabel('Success or Failure')\n",
    "plt.ylabel('Frequency')\n",
    "plt.xticks([0.25, 0.75], ['Failure', 'Success'])\n",
    "plt.show()"
   ]
  },
  {
   "cell_type": "code",
   "execution_count": null,
   "id": "cd24deec-bbc5-4b53-ac71-fb4dc6486afd",
   "metadata": {},
   "outputs": [],
   "source": [
    "Q6. Write a Python function to calculate the cumulative distribution function of a Poisson distribution\n",
    "with given mean at a given point."
   ]
  },
  {
   "cell_type": "code",
   "execution_count": 47,
   "id": "f0585bd7-e1b9-4f6c-838a-25a0464dde9a",
   "metadata": {},
   "outputs": [
    {
     "name": "stdout",
     "output_type": "stream",
     "text": [
      "0.06708596287903189\n"
     ]
    }
   ],
   "source": [
    "def poisson_cdf(x, lam):\n",
    "    return poisson.cdf(x, lam)\n",
    "\n",
    "x = 5\n",
    "lam = 10\n",
    "\n",
    "cdf = poisson_cdf(x, lam)\n",
    "print(cdf)"
   ]
  },
  {
   "cell_type": "code",
   "execution_count": null,
   "id": "ec2bc46d-31da-4353-8285-639ec95ed167",
   "metadata": {},
   "outputs": [],
   "source": [
    "Q7. How Binomial distribution different from Poisson distribution?\n",
    "\n",
    "Some of the differences are:\n",
    "    \n",
    "a. Sample size: Binomial distribution describes binary data from a finite sample, while Poisson distribution\n",
    "describes binary data from an infinite sample.\n",
    "\n",
    "b. Number of outcomes: Binomial distribution has only two outcomes, success or failure. Poisson distribution\n",
    "has no limit to the number of possible outcomes.\n",
    "\n",
    "c. Probability of success: In binomial distribution, the probability of success remains constant for each trial.\n",
    "Poisson distribution does not explicitly consider the probability of success.\n",
    "\n",
    "d. Nature of the experiment: Binomial distribution applies to experiments with a fixed number of trials. \n",
    "Poisson distribution applies to events occurring within a fixed interval.\n",
    "\n",
    "e. Mean and variance: The mean and variance of the binomial distribution are determined by the number of \n",
    "trials and the probability of success. The mean and variance of the Poisson distribution are both equal to the \n",
    "rate parameter λ.\n",
    "\n",
    "f. Suitability: Poisson is better suited to situations where there is no hard cap on the potential success cases. \n",
    "Binomial can't have more successes than the N number of trials."
   ]
  },
  {
   "cell_type": "code",
   "execution_count": null,
   "id": "a2982c5b-b566-46c0-8675-10ef05d1100f",
   "metadata": {},
   "outputs": [],
   "source": [
    "Q8. Generate a random sample of size 1000 from a Poisson distribution with mean 5 and calculate the\n",
    "sample mean and variance."
   ]
  },
  {
   "cell_type": "code",
   "execution_count": 1,
   "id": "ca4d853d-227a-43f2-9d11-d8893680fc0c",
   "metadata": {},
   "outputs": [
    {
     "name": "stdout",
     "output_type": "stream",
     "text": [
      "Sample Mean-  5.025\n",
      "Variance-  4.978375\n"
     ]
    }
   ],
   "source": [
    "import numpy as np\n",
    "\n",
    "# Generate random sample\n",
    "sample = np.random.poisson(5, 1000)\n",
    "\n",
    "sample_mean = np.mean(sample)\n",
    "print('Sample Mean- ',sample_mean)\n",
    "variance = np.var(sample)\n",
    "print('Variance- ',variance)"
   ]
  },
  {
   "cell_type": "code",
   "execution_count": null,
   "id": "01bd5b2b-a463-4de9-b548-1ec75690ebc9",
   "metadata": {},
   "outputs": [],
   "source": [
    "Q9. How mean and variance are related in Binomial distribution and Poisson distribution?"
   ]
  },
  {
   "cell_type": "code",
   "execution_count": null,
   "id": "491c8ab8-48ca-4c2b-81a3-2ca981e82323",
   "metadata": {},
   "outputs": [],
   "source": [
    "In a binomial distribution, the mean is equal to np and the variance is equal to np(1-p).\n",
    "In a Poisson distribution, the mean is equal to λ and the variance is also equal to λ."
   ]
  },
  {
   "cell_type": "code",
   "execution_count": null,
   "id": "20ba2114-6ffa-4da7-b28d-8055c56a4ae3",
   "metadata": {},
   "outputs": [],
   "source": [
    "Q10. In normal distribution with respect to mean position, where does the least frequent data appear?"
   ]
  },
  {
   "cell_type": "code",
   "execution_count": null,
   "id": "a518dc5b-3f94-405d-a754-7aed77a2e505",
   "metadata": {},
   "outputs": [],
   "source": [
    "In a normal distribution, the least frequent data appears farther away from the mean. \n",
    "The graph appears as a 'bell curve' when graphed."
   ]
  }
 ],
 "metadata": {
  "kernelspec": {
   "display_name": "Python 3 (ipykernel)",
   "language": "python",
   "name": "python3"
  },
  "language_info": {
   "codemirror_mode": {
    "name": "ipython",
    "version": 3
   },
   "file_extension": ".py",
   "mimetype": "text/x-python",
   "name": "python",
   "nbconvert_exporter": "python",
   "pygments_lexer": "ipython3",
   "version": "3.10.8"
  }
 },
 "nbformat": 4,
 "nbformat_minor": 5
}
